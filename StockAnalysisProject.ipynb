{
 "cells": [
  {
   "cell_type": "markdown",
   "id": "1edf6cdb-8e4e-43fd-b789-78827553a2e7",
   "metadata": {},
   "source": [
    "# Stock Analysis\n",
    "\n",
    "I would like to compare the last 5-year's performance of stocks for Apple and Ferrari to S&P 500"
   ]
  },
  {
   "cell_type": "code",
   "execution_count": 69,
   "id": "b0880529-0104-4b5a-8b9d-2ea39460c73c",
   "metadata": {},
   "outputs": [],
   "source": [
    "# Load packages and read the data files\n",
    "\n",
    "import pandas as pd\n",
    "import numpy as np\n",
    "import matplotlib.pyplot as plt\n",
    "plt.style.use('seaborn')\n",
    "\n",
    "spx = pd.read_csv('spx.csv')\n",
    "apple = pd.read_csv('aapl.csv')\n",
    "ferrari = pd.read_csv('race.csv')"
   ]
  },
  {
   "cell_type": "markdown",
   "id": "81bdfe87-92fa-463e-a095-0063da0c5089",
   "metadata": {},
   "source": [
    "## First I want to look at the datasets and do some cleaning if necessary"
   ]
  },
  {
   "cell_type": "code",
   "execution_count": 70,
   "id": "be5e5005-74ba-4df6-8101-8548d80de845",
   "metadata": {},
   "outputs": [
    {
     "data": {
      "text/html": [
       "<div>\n",
       "<style scoped>\n",
       "    .dataframe tbody tr th:only-of-type {\n",
       "        vertical-align: middle;\n",
       "    }\n",
       "\n",
       "    .dataframe tbody tr th {\n",
       "        vertical-align: top;\n",
       "    }\n",
       "\n",
       "    .dataframe thead th {\n",
       "        text-align: right;\n",
       "    }\n",
       "</style>\n",
       "<table border=\"1\" class=\"dataframe\">\n",
       "  <thead>\n",
       "    <tr style=\"text-align: right;\">\n",
       "      <th></th>\n",
       "      <th>Date</th>\n",
       "      <th>Close/Last</th>\n",
       "      <th>Volume</th>\n",
       "      <th>Open</th>\n",
       "      <th>High</th>\n",
       "      <th>Low</th>\n",
       "    </tr>\n",
       "  </thead>\n",
       "  <tbody>\n",
       "    <tr>\n",
       "      <th>0</th>\n",
       "      <td>04/11/2022</td>\n",
       "      <td>4412.53</td>\n",
       "      <td>--</td>\n",
       "      <td>4462.64</td>\n",
       "      <td>4464.35</td>\n",
       "      <td>4408.38</td>\n",
       "    </tr>\n",
       "    <tr>\n",
       "      <th>1</th>\n",
       "      <td>04/08/2022</td>\n",
       "      <td>4488.28</td>\n",
       "      <td>--</td>\n",
       "      <td>4494.15</td>\n",
       "      <td>4520.41</td>\n",
       "      <td>4474.60</td>\n",
       "    </tr>\n",
       "    <tr>\n",
       "      <th>2</th>\n",
       "      <td>04/07/2022</td>\n",
       "      <td>4500.21</td>\n",
       "      <td>--</td>\n",
       "      <td>4474.65</td>\n",
       "      <td>4521.16</td>\n",
       "      <td>4450.30</td>\n",
       "    </tr>\n",
       "    <tr>\n",
       "      <th>3</th>\n",
       "      <td>04/06/2022</td>\n",
       "      <td>4481.15</td>\n",
       "      <td>--</td>\n",
       "      <td>4494.17</td>\n",
       "      <td>4503.94</td>\n",
       "      <td>4450.04</td>\n",
       "    </tr>\n",
       "    <tr>\n",
       "      <th>4</th>\n",
       "      <td>04/05/2022</td>\n",
       "      <td>4525.12</td>\n",
       "      <td>--</td>\n",
       "      <td>4572.45</td>\n",
       "      <td>4593.45</td>\n",
       "      <td>4514.17</td>\n",
       "    </tr>\n",
       "  </tbody>\n",
       "</table>\n",
       "</div>"
      ],
      "text/plain": [
       "         Date  Close/Last Volume     Open     High      Low\n",
       "0  04/11/2022     4412.53     --  4462.64  4464.35  4408.38\n",
       "1  04/08/2022     4488.28     --  4494.15  4520.41  4474.60\n",
       "2  04/07/2022     4500.21     --  4474.65  4521.16  4450.30\n",
       "3  04/06/2022     4481.15     --  4494.17  4503.94  4450.04\n",
       "4  04/05/2022     4525.12     --  4572.45  4593.45  4514.17"
      ]
     },
     "execution_count": 70,
     "metadata": {},
     "output_type": "execute_result"
    }
   ],
   "source": [
    "spx.head()"
   ]
  },
  {
   "cell_type": "code",
   "execution_count": 71,
   "id": "f8aa9132-bdf6-4108-92b7-a8a8324f7b1c",
   "metadata": {},
   "outputs": [
    {
     "data": {
      "text/html": [
       "<div>\n",
       "<style scoped>\n",
       "    .dataframe tbody tr th:only-of-type {\n",
       "        vertical-align: middle;\n",
       "    }\n",
       "\n",
       "    .dataframe tbody tr th {\n",
       "        vertical-align: top;\n",
       "    }\n",
       "\n",
       "    .dataframe thead th {\n",
       "        text-align: right;\n",
       "    }\n",
       "</style>\n",
       "<table border=\"1\" class=\"dataframe\">\n",
       "  <thead>\n",
       "    <tr style=\"text-align: right;\">\n",
       "      <th></th>\n",
       "      <th>Date</th>\n",
       "      <th>Close/Last</th>\n",
       "      <th>Volume</th>\n",
       "      <th>Open</th>\n",
       "      <th>High</th>\n",
       "      <th>Low</th>\n",
       "    </tr>\n",
       "  </thead>\n",
       "  <tbody>\n",
       "    <tr>\n",
       "      <th>0</th>\n",
       "      <td>04/11/2022</td>\n",
       "      <td>$220.76</td>\n",
       "      <td>595217</td>\n",
       "      <td>$219.24</td>\n",
       "      <td>$223.3</td>\n",
       "      <td>$218.58</td>\n",
       "    </tr>\n",
       "    <tr>\n",
       "      <th>1</th>\n",
       "      <td>04/08/2022</td>\n",
       "      <td>$219.51</td>\n",
       "      <td>356426</td>\n",
       "      <td>$217.92</td>\n",
       "      <td>$222.28</td>\n",
       "      <td>$217.74</td>\n",
       "    </tr>\n",
       "    <tr>\n",
       "      <th>2</th>\n",
       "      <td>04/07/2022</td>\n",
       "      <td>$221.4</td>\n",
       "      <td>458763</td>\n",
       "      <td>$221.36</td>\n",
       "      <td>$222.3</td>\n",
       "      <td>$216.9</td>\n",
       "    </tr>\n",
       "    <tr>\n",
       "      <th>3</th>\n",
       "      <td>04/06/2022</td>\n",
       "      <td>$220.2</td>\n",
       "      <td>553786</td>\n",
       "      <td>$221.24</td>\n",
       "      <td>$221.85</td>\n",
       "      <td>$218</td>\n",
       "    </tr>\n",
       "    <tr>\n",
       "      <th>4</th>\n",
       "      <td>04/05/2022</td>\n",
       "      <td>$225.78</td>\n",
       "      <td>620142</td>\n",
       "      <td>$228.84</td>\n",
       "      <td>$230.28</td>\n",
       "      <td>$224.65</td>\n",
       "    </tr>\n",
       "  </tbody>\n",
       "</table>\n",
       "</div>"
      ],
      "text/plain": [
       "         Date Close/Last  Volume     Open     High      Low\n",
       "0  04/11/2022    $220.76  595217  $219.24   $223.3  $218.58\n",
       "1  04/08/2022    $219.51  356426  $217.92  $222.28  $217.74\n",
       "2  04/07/2022     $221.4  458763  $221.36   $222.3   $216.9\n",
       "3  04/06/2022     $220.2  553786  $221.24  $221.85     $218\n",
       "4  04/05/2022    $225.78  620142  $228.84  $230.28  $224.65"
      ]
     },
     "execution_count": 71,
     "metadata": {},
     "output_type": "execute_result"
    }
   ],
   "source": [
    "ferrari.head()"
   ]
  },
  {
   "cell_type": "code",
   "execution_count": 72,
   "id": "315e9061-6b50-454e-b27e-fba7f912c59a",
   "metadata": {},
   "outputs": [
    {
     "data": {
      "text/html": [
       "<div>\n",
       "<style scoped>\n",
       "    .dataframe tbody tr th:only-of-type {\n",
       "        vertical-align: middle;\n",
       "    }\n",
       "\n",
       "    .dataframe tbody tr th {\n",
       "        vertical-align: top;\n",
       "    }\n",
       "\n",
       "    .dataframe thead th {\n",
       "        text-align: right;\n",
       "    }\n",
       "</style>\n",
       "<table border=\"1\" class=\"dataframe\">\n",
       "  <thead>\n",
       "    <tr style=\"text-align: right;\">\n",
       "      <th></th>\n",
       "      <th>Date</th>\n",
       "      <th>Close/Last</th>\n",
       "      <th>Volume</th>\n",
       "      <th>Open</th>\n",
       "      <th>High</th>\n",
       "      <th>Low</th>\n",
       "    </tr>\n",
       "  </thead>\n",
       "  <tbody>\n",
       "    <tr>\n",
       "      <th>0</th>\n",
       "      <td>04/11/2022</td>\n",
       "      <td>$165.75</td>\n",
       "      <td>72246710</td>\n",
       "      <td>$168.71</td>\n",
       "      <td>$169.03</td>\n",
       "      <td>$165.5</td>\n",
       "    </tr>\n",
       "    <tr>\n",
       "      <th>1</th>\n",
       "      <td>04/08/2022</td>\n",
       "      <td>$170.09</td>\n",
       "      <td>76575510</td>\n",
       "      <td>$171.78</td>\n",
       "      <td>$171.78</td>\n",
       "      <td>$169.2</td>\n",
       "    </tr>\n",
       "    <tr>\n",
       "      <th>2</th>\n",
       "      <td>04/07/2022</td>\n",
       "      <td>$172.14</td>\n",
       "      <td>77594650</td>\n",
       "      <td>$171.16</td>\n",
       "      <td>$173.36</td>\n",
       "      <td>$169.85</td>\n",
       "    </tr>\n",
       "    <tr>\n",
       "      <th>3</th>\n",
       "      <td>04/06/2022</td>\n",
       "      <td>$171.83</td>\n",
       "      <td>89058780</td>\n",
       "      <td>$172.36</td>\n",
       "      <td>$173.63</td>\n",
       "      <td>$170.13</td>\n",
       "    </tr>\n",
       "    <tr>\n",
       "      <th>4</th>\n",
       "      <td>04/05/2022</td>\n",
       "      <td>$175.06</td>\n",
       "      <td>73401790</td>\n",
       "      <td>$177.5</td>\n",
       "      <td>$178.3</td>\n",
       "      <td>$174.415</td>\n",
       "    </tr>\n",
       "  </tbody>\n",
       "</table>\n",
       "</div>"
      ],
      "text/plain": [
       "         Date Close/Last    Volume     Open     High       Low\n",
       "0  04/11/2022    $165.75  72246710  $168.71  $169.03    $165.5\n",
       "1  04/08/2022    $170.09  76575510  $171.78  $171.78    $169.2\n",
       "2  04/07/2022    $172.14  77594650  $171.16  $173.36   $169.85\n",
       "3  04/06/2022    $171.83  89058780  $172.36  $173.63   $170.13\n",
       "4  04/05/2022    $175.06  73401790   $177.5   $178.3  $174.415"
      ]
     },
     "execution_count": 72,
     "metadata": {},
     "output_type": "execute_result"
    }
   ],
   "source": [
    "apple.head()"
   ]
  },
  {
   "cell_type": "code",
   "execution_count": 73,
   "id": "8015fdfd-6b6b-436c-bb48-c4c6b756fbe2",
   "metadata": {},
   "outputs": [
    {
     "data": {
      "text/html": [
       "<div>\n",
       "<style scoped>\n",
       "    .dataframe tbody tr th:only-of-type {\n",
       "        vertical-align: middle;\n",
       "    }\n",
       "\n",
       "    .dataframe tbody tr th {\n",
       "        vertical-align: top;\n",
       "    }\n",
       "\n",
       "    .dataframe thead th {\n",
       "        text-align: right;\n",
       "    }\n",
       "</style>\n",
       "<table border=\"1\" class=\"dataframe\">\n",
       "  <thead>\n",
       "    <tr style=\"text-align: right;\">\n",
       "      <th></th>\n",
       "      <th>date</th>\n",
       "      <th>close</th>\n",
       "      <th>Volume</th>\n",
       "      <th>Open</th>\n",
       "      <th>High</th>\n",
       "      <th>Low</th>\n",
       "    </tr>\n",
       "  </thead>\n",
       "  <tbody>\n",
       "    <tr>\n",
       "      <th>0</th>\n",
       "      <td>04/11/2022</td>\n",
       "      <td>4412.53</td>\n",
       "      <td>--</td>\n",
       "      <td>4462.64</td>\n",
       "      <td>4464.35</td>\n",
       "      <td>4408.38</td>\n",
       "    </tr>\n",
       "    <tr>\n",
       "      <th>1</th>\n",
       "      <td>04/08/2022</td>\n",
       "      <td>4488.28</td>\n",
       "      <td>--</td>\n",
       "      <td>4494.15</td>\n",
       "      <td>4520.41</td>\n",
       "      <td>4474.60</td>\n",
       "    </tr>\n",
       "    <tr>\n",
       "      <th>2</th>\n",
       "      <td>04/07/2022</td>\n",
       "      <td>4500.21</td>\n",
       "      <td>--</td>\n",
       "      <td>4474.65</td>\n",
       "      <td>4521.16</td>\n",
       "      <td>4450.30</td>\n",
       "    </tr>\n",
       "    <tr>\n",
       "      <th>3</th>\n",
       "      <td>04/06/2022</td>\n",
       "      <td>4481.15</td>\n",
       "      <td>--</td>\n",
       "      <td>4494.17</td>\n",
       "      <td>4503.94</td>\n",
       "      <td>4450.04</td>\n",
       "    </tr>\n",
       "    <tr>\n",
       "      <th>4</th>\n",
       "      <td>04/05/2022</td>\n",
       "      <td>4525.12</td>\n",
       "      <td>--</td>\n",
       "      <td>4572.45</td>\n",
       "      <td>4593.45</td>\n",
       "      <td>4514.17</td>\n",
       "    </tr>\n",
       "  </tbody>\n",
       "</table>\n",
       "</div>"
      ],
      "text/plain": [
       "         date    close Volume     Open     High      Low\n",
       "0  04/11/2022  4412.53     --  4462.64  4464.35  4408.38\n",
       "1  04/08/2022  4488.28     --  4494.15  4520.41  4474.60\n",
       "2  04/07/2022  4500.21     --  4474.65  4521.16  4450.30\n",
       "3  04/06/2022  4481.15     --  4494.17  4503.94  4450.04\n",
       "4  04/05/2022  4525.12     --  4572.45  4593.45  4514.17"
      ]
     },
     "execution_count": 73,
     "metadata": {},
     "output_type": "execute_result"
    }
   ],
   "source": [
    "# Let's first rename some columns that I will be using \n",
    "\n",
    "spx = spx.rename(  \n",
    "        columns={\n",
    "                'Date': 'date', \n",
    "                'Close/Last': 'close',\n",
    "                }\n",
    ")\n",
    "spx.head()"
   ]
  },
  {
   "cell_type": "code",
   "execution_count": 74,
   "id": "3d987eb3-b5a3-48c9-a06a-bdc7db25a628",
   "metadata": {},
   "outputs": [],
   "source": [
    "# Do the same for the other two datasets\n",
    "\n",
    "apple = apple.rename(  \n",
    "        columns={\n",
    "                'Date': 'date', \n",
    "                'Close/Last': 'close',\n",
    "                }\n",
    ")\n",
    "\n",
    "ferrari = ferrari.rename(  \n",
    "        columns={\n",
    "                'Date': 'date', \n",
    "                'Close/Last': 'close',\n",
    "                }\n",
    ")"
   ]
  },
  {
   "cell_type": "code",
   "execution_count": 75,
   "id": "08b38aa7-01f8-4201-a8d7-8980bdd98e78",
   "metadata": {},
   "outputs": [
    {
     "name": "stdout",
     "output_type": "stream",
     "text": [
      "<class 'pandas.core.frame.DataFrame'>\n",
      "RangeIndex: 1259 entries, 0 to 1258\n",
      "Data columns (total 6 columns):\n",
      " #   Column  Non-Null Count  Dtype  \n",
      "---  ------  --------------  -----  \n",
      " 0   date    1259 non-null   object \n",
      " 1   close   1259 non-null   float64\n",
      " 2   Volume  1259 non-null   object \n",
      " 3   Open    1259 non-null   float64\n",
      " 4   High    1259 non-null   float64\n",
      " 5   Low     1259 non-null   float64\n",
      "dtypes: float64(4), object(2)\n",
      "memory usage: 59.1+ KB\n"
     ]
    }
   ],
   "source": [
    "# Check for data types\n",
    "\n",
    "spx.info()"
   ]
  },
  {
   "cell_type": "code",
   "execution_count": 76,
   "id": "9c470fc9-cfaf-441c-9d4b-d7fd0f24b53a",
   "metadata": {},
   "outputs": [
    {
     "name": "stdout",
     "output_type": "stream",
     "text": [
      "<class 'pandas.core.frame.DataFrame'>\n",
      "RangeIndex: 1259 entries, 0 to 1258\n",
      "Data columns (total 6 columns):\n",
      " #   Column  Non-Null Count  Dtype         \n",
      "---  ------  --------------  -----         \n",
      " 0   date    1259 non-null   datetime64[ns]\n",
      " 1   close   1259 non-null   float64       \n",
      " 2   Volume  1259 non-null   object        \n",
      " 3   Open    1259 non-null   float64       \n",
      " 4   High    1259 non-null   float64       \n",
      " 5   Low     1259 non-null   float64       \n",
      "dtypes: datetime64[ns](1), float64(4), object(1)\n",
      "memory usage: 59.1+ KB\n"
     ]
    }
   ],
   "source": [
    "# Looks like date is an object I need to convert it into datetime64\n",
    "\n",
    "spx.date = pd.to_datetime(spx.date)\n",
    "apple.date = pd.to_datetime(apple.date)\n",
    "ferrari.date = pd.to_datetime(ferrari.date)\n",
    "\n",
    "spx.info()"
   ]
  },
  {
   "cell_type": "code",
   "execution_count": 77,
   "id": "31c02719-af18-47e1-a356-9334da68eed3",
   "metadata": {},
   "outputs": [
    {
     "name": "stdout",
     "output_type": "stream",
     "text": [
      "<class 'pandas.core.frame.DataFrame'>\n",
      "RangeIndex: 1259 entries, 0 to 1258\n",
      "Data columns (total 6 columns):\n",
      " #   Column  Non-Null Count  Dtype         \n",
      "---  ------  --------------  -----         \n",
      " 0   date    1259 non-null   datetime64[ns]\n",
      " 1   close   1259 non-null   object        \n",
      " 2   Volume  1259 non-null   int64         \n",
      " 3   Open    1259 non-null   object        \n",
      " 4   High    1259 non-null   object        \n",
      " 5   Low     1259 non-null   object        \n",
      "dtypes: datetime64[ns](1), int64(1), object(4)\n",
      "memory usage: 59.1+ KB\n"
     ]
    }
   ],
   "source": [
    "ferrari.info()"
   ]
  },
  {
   "cell_type": "code",
   "execution_count": 78,
   "id": "5f465dc8-b817-43f9-bd8a-6697a0d606ef",
   "metadata": {},
   "outputs": [
    {
     "name": "stdout",
     "output_type": "stream",
     "text": [
      "<class 'pandas.core.frame.DataFrame'>\n",
      "RangeIndex: 1259 entries, 0 to 1258\n",
      "Data columns (total 6 columns):\n",
      " #   Column  Non-Null Count  Dtype         \n",
      "---  ------  --------------  -----         \n",
      " 0   date    1259 non-null   datetime64[ns]\n",
      " 1   close   1259 non-null   object        \n",
      " 2   Volume  1259 non-null   int64         \n",
      " 3   Open    1259 non-null   object        \n",
      " 4   High    1259 non-null   object        \n",
      " 5   Low     1259 non-null   object        \n",
      "dtypes: datetime64[ns](1), int64(1), object(4)\n",
      "memory usage: 59.1+ KB\n"
     ]
    }
   ],
   "source": [
    "apple.info()"
   ]
  },
  {
   "cell_type": "code",
   "execution_count": 79,
   "id": "312476d6-d7eb-4441-9354-9df28d4fdb54",
   "metadata": {},
   "outputs": [
    {
     "name": "stdout",
     "output_type": "stream",
     "text": [
      "<class 'pandas.core.frame.DataFrame'>\n",
      "RangeIndex: 1259 entries, 0 to 1258\n",
      "Data columns (total 6 columns):\n",
      " #   Column  Non-Null Count  Dtype         \n",
      "---  ------  --------------  -----         \n",
      " 0   date    1259 non-null   datetime64[ns]\n",
      " 1   close   1259 non-null   float64       \n",
      " 2   Volume  1259 non-null   int64         \n",
      " 3   Open    1259 non-null   object        \n",
      " 4   High    1259 non-null   object        \n",
      " 5   Low     1259 non-null   object        \n",
      "dtypes: datetime64[ns](1), float64(1), int64(1), object(3)\n",
      "memory usage: 59.1+ KB\n"
     ]
    }
   ],
   "source": [
    "# It seems that column close in apple and ferrari datasets are objects, I need to convert it to float64\n",
    "\n",
    "apple.close = aapl.close.str.replace('$','',regex=False)\n",
    "apple.close = apple.close.astype(float)\n",
    "\n",
    "ferrari.close = race.close.str.replace('$','',regex=False)\n",
    "ferrari.close = ferrari.close.astype(float)\n",
    "\n",
    "apple.info()"
   ]
  },
  {
   "cell_type": "code",
   "execution_count": 80,
   "id": "7d7640e1-2486-4855-8b8e-0c90e4970811",
   "metadata": {},
   "outputs": [],
   "source": [
    "# Set the index to date and sort\n",
    "\n",
    "spx.set_index('date',inplace=True)\n",
    "apple.set_index('date', inplace=True)\n",
    "ferrari.set_index('date',inplace=True)\n",
    "\n",
    "spx.sort_index(inplace=True)\n",
    "apple.sort_index(inplace=True)\n",
    "ferrari.sort_index(inplace=True)"
   ]
  },
  {
   "cell_type": "code",
   "execution_count": 81,
   "id": "d59b1de4-ece0-4887-88e5-f707ea2f7cbb",
   "metadata": {},
   "outputs": [
    {
     "data": {
      "text/html": [
       "<div>\n",
       "<style scoped>\n",
       "    .dataframe tbody tr th:only-of-type {\n",
       "        vertical-align: middle;\n",
       "    }\n",
       "\n",
       "    .dataframe tbody tr th {\n",
       "        vertical-align: top;\n",
       "    }\n",
       "\n",
       "    .dataframe thead th {\n",
       "        text-align: right;\n",
       "    }\n",
       "</style>\n",
       "<table border=\"1\" class=\"dataframe\">\n",
       "  <thead>\n",
       "    <tr style=\"text-align: right;\">\n",
       "      <th></th>\n",
       "      <th>close</th>\n",
       "      <th>Volume</th>\n",
       "      <th>Open</th>\n",
       "      <th>High</th>\n",
       "      <th>Low</th>\n",
       "    </tr>\n",
       "    <tr>\n",
       "      <th>date</th>\n",
       "      <th></th>\n",
       "      <th></th>\n",
       "      <th></th>\n",
       "      <th></th>\n",
       "      <th></th>\n",
       "    </tr>\n",
       "  </thead>\n",
       "  <tbody>\n",
       "    <tr>\n",
       "      <th>2017-04-12</th>\n",
       "      <td>2344.93</td>\n",
       "      <td>--</td>\n",
       "      <td>2352.15</td>\n",
       "      <td>2352.72</td>\n",
       "      <td>2341.18</td>\n",
       "    </tr>\n",
       "    <tr>\n",
       "      <th>2017-04-13</th>\n",
       "      <td>2328.95</td>\n",
       "      <td>--</td>\n",
       "      <td>2341.98</td>\n",
       "      <td>2348.26</td>\n",
       "      <td>2328.95</td>\n",
       "    </tr>\n",
       "    <tr>\n",
       "      <th>2017-04-17</th>\n",
       "      <td>2349.01</td>\n",
       "      <td>--</td>\n",
       "      <td>2332.62</td>\n",
       "      <td>2349.14</td>\n",
       "      <td>2332.51</td>\n",
       "    </tr>\n",
       "    <tr>\n",
       "      <th>2017-04-18</th>\n",
       "      <td>2342.19</td>\n",
       "      <td>--</td>\n",
       "      <td>2342.53</td>\n",
       "      <td>2348.35</td>\n",
       "      <td>2334.54</td>\n",
       "    </tr>\n",
       "    <tr>\n",
       "      <th>2017-04-19</th>\n",
       "      <td>2338.17</td>\n",
       "      <td>--</td>\n",
       "      <td>2346.79</td>\n",
       "      <td>2352.63</td>\n",
       "      <td>2335.05</td>\n",
       "    </tr>\n",
       "  </tbody>\n",
       "</table>\n",
       "</div>"
      ],
      "text/plain": [
       "              close Volume     Open     High      Low\n",
       "date                                                 \n",
       "2017-04-12  2344.93     --  2352.15  2352.72  2341.18\n",
       "2017-04-13  2328.95     --  2341.98  2348.26  2328.95\n",
       "2017-04-17  2349.01     --  2332.62  2349.14  2332.51\n",
       "2017-04-18  2342.19     --  2342.53  2348.35  2334.54\n",
       "2017-04-19  2338.17     --  2346.79  2352.63  2335.05"
      ]
     },
     "execution_count": 81,
     "metadata": {},
     "output_type": "execute_result"
    }
   ],
   "source": [
    "spx.head()"
   ]
  },
  {
   "cell_type": "markdown",
   "id": "b96aad1e-e2a1-440c-ab7e-aa2d1a017db0",
   "metadata": {},
   "source": [
    "## Datasets are now prepared and its time to analyze the five year performances"
   ]
  },
  {
   "cell_type": "code",
   "execution_count": 82,
   "id": "a6ce43af-dec6-404f-98d5-43fe6d2a701b",
   "metadata": {},
   "outputs": [
    {
     "name": "stdout",
     "output_type": "stream",
     "text": [
      "The five year return for S&P 500 is 0.88\n"
     ]
    }
   ],
   "source": [
    "# Calculate five year return for S&P 500\n",
    "\n",
    "first_spx = spx.loc[spx.index.min()].close\n",
    "last_spx = spx.loc[spx.index.max()].close\n",
    "five_year_spx = (last_spx-first_spx)/first_spx\n",
    "\n",
    "print(f'The five year return for S&P 500 is {five_year_spx:.2f}')"
   ]
  },
  {
   "cell_type": "code",
   "execution_count": 83,
   "id": "628ed26e-a700-4a6f-a098-90fe89fb04b1",
   "metadata": {},
   "outputs": [
    {
     "name": "stdout",
     "output_type": "stream",
     "text": [
      "The five year return for Apple is 3.68\n",
      "The five year return for Ferrari is 2.08\n"
     ]
    }
   ],
   "source": [
    "# Do the same for apple and ferrari\n",
    "\n",
    "first_apple = apple.loc[apple.index.min()].close\n",
    "last_apple = apple.loc[apple.index.max()].close\n",
    "five_year_apple = (last_apple-first_apple)/first_apple\n",
    "\n",
    "first_ferrari = ferrari.loc[ferrari.index.min()].close\n",
    "last_ferrari = ferrari.loc[ferrari.index.max()].close\n",
    "five_year_ferrari = (last_ferrari-first_ferrari)/first_ferrari\n",
    "\n",
    "print(f'The five year return for Apple is {five_year_apple:.2f}')\n",
    "print(f'The five year return for Ferrari is {five_year_ferrari:.2f}')"
   ]
  },
  {
   "cell_type": "code",
   "execution_count": 84,
   "id": "34e0721b-10d9-4e73-9f02-1ac083a98a1f",
   "metadata": {},
   "outputs": [
    {
     "data": {
      "text/html": [
       "<div>\n",
       "<style scoped>\n",
       "    .dataframe tbody tr th:only-of-type {\n",
       "        vertical-align: middle;\n",
       "    }\n",
       "\n",
       "    .dataframe tbody tr th {\n",
       "        vertical-align: top;\n",
       "    }\n",
       "\n",
       "    .dataframe thead th {\n",
       "        text-align: right;\n",
       "    }\n",
       "</style>\n",
       "<table border=\"1\" class=\"dataframe\">\n",
       "  <thead>\n",
       "    <tr style=\"text-align: right;\">\n",
       "      <th></th>\n",
       "      <th>close</th>\n",
       "      <th>Volume</th>\n",
       "      <th>Open</th>\n",
       "      <th>High</th>\n",
       "      <th>Low</th>\n",
       "      <th>close_norm</th>\n",
       "    </tr>\n",
       "    <tr>\n",
       "      <th>date</th>\n",
       "      <th></th>\n",
       "      <th></th>\n",
       "      <th></th>\n",
       "      <th></th>\n",
       "      <th></th>\n",
       "      <th></th>\n",
       "    </tr>\n",
       "  </thead>\n",
       "  <tbody>\n",
       "    <tr>\n",
       "      <th>2017-04-12</th>\n",
       "      <td>35.4500</td>\n",
       "      <td>81281680</td>\n",
       "      <td>$35.4</td>\n",
       "      <td>$35.5375</td>\n",
       "      <td>$35.2525</td>\n",
       "      <td>100.000000</td>\n",
       "    </tr>\n",
       "    <tr>\n",
       "      <th>2017-04-13</th>\n",
       "      <td>35.2625</td>\n",
       "      <td>71102040</td>\n",
       "      <td>$35.4775</td>\n",
       "      <td>$35.595</td>\n",
       "      <td>$35.2625</td>\n",
       "      <td>99.471086</td>\n",
       "    </tr>\n",
       "    <tr>\n",
       "      <th>2017-04-17</th>\n",
       "      <td>35.4575</td>\n",
       "      <td>66116520</td>\n",
       "      <td>$35.37</td>\n",
       "      <td>$35.47</td>\n",
       "      <td>$35.2175</td>\n",
       "      <td>100.021157</td>\n",
       "    </tr>\n",
       "    <tr>\n",
       "      <th>2017-04-18</th>\n",
       "      <td>35.3000</td>\n",
       "      <td>58705680</td>\n",
       "      <td>$35.3525</td>\n",
       "      <td>$35.51</td>\n",
       "      <td>$35.2775</td>\n",
       "      <td>99.576869</td>\n",
       "    </tr>\n",
       "    <tr>\n",
       "      <th>2017-04-19</th>\n",
       "      <td>35.1700</td>\n",
       "      <td>69208640</td>\n",
       "      <td>$35.47</td>\n",
       "      <td>$35.5</td>\n",
       "      <td>$35.1125</td>\n",
       "      <td>99.210155</td>\n",
       "    </tr>\n",
       "  </tbody>\n",
       "</table>\n",
       "</div>"
      ],
      "text/plain": [
       "              close    Volume      Open      High       Low  close_norm\n",
       "date                                                                   \n",
       "2017-04-12  35.4500  81281680     $35.4  $35.5375  $35.2525  100.000000\n",
       "2017-04-13  35.2625  71102040  $35.4775   $35.595  $35.2625   99.471086\n",
       "2017-04-17  35.4575  66116520    $35.37    $35.47  $35.2175  100.021157\n",
       "2017-04-18  35.3000  58705680  $35.3525    $35.51  $35.2775   99.576869\n",
       "2017-04-19  35.1700  69208640    $35.47     $35.5  $35.1125   99.210155"
      ]
     },
     "execution_count": 84,
     "metadata": {},
     "output_type": "execute_result"
    }
   ],
   "source": [
    "# Normalize the prices\n",
    "\n",
    "spx['close_norm'] = spx.close.div(first_spx).mul(100)\n",
    "\n",
    "apple['close_norm'] = apple.close.div(first_apple).mul(100)\n",
    "\n",
    "ferrari['close_norm'] = ferrari.close.div(first_ferrari).mul(100)\n",
    "\n",
    "apple.head()"
   ]
  },
  {
   "cell_type": "code",
   "execution_count": 85,
   "id": "3af1d304-f677-4677-acad-d2033a3b99e6",
   "metadata": {},
   "outputs": [
    {
     "data": {
      "text/plain": [
       "<matplotlib.legend.Legend at 0x1f6c2ce70d0>"
      ]
     },
     "execution_count": 85,
     "metadata": {},
     "output_type": "execute_result"
    },
    {
     "data": {
      "image/png": "[encoded data removed]",
      "text/plain": [
       "<Figure size 800x550 with 1 Axes>"
      ]
     },
     "metadata": {},
     "output_type": "display_data"
    }
   ],
   "source": [
    "# Plot the comparison chart\n",
    "\n",
    "fig, ax = plt.subplots()\n",
    "spx.close_norm.plot(label='S&P 500 Stock')\n",
    "apple.close_norm.plot(label='Apple Stock')\n",
    "ferrari.close_norm.plot(label='Ferrari Stock')\n",
    "ax.legend()"
   ]
  },
  {
   "cell_type": "code",
   "execution_count": null,
   "id": "0fbfd16c-fcfd-4743-9551-772c07613ab3",
   "metadata": {},
   "outputs": [],
   "source": []
  },
  {
   "cell_type": "code",
   "execution_count": null,
   "id": "804203af-f8ef-4c86-ae76-20366fc1d864",
   "metadata": {},
   "outputs": [],
   "source": []
  }
 ],
 "metadata": {
  "kernelspec": {
   "display_name": "Python 3 (ipykernel)",
   "language": "python",
   "name": "python3"
  },
  "language_info": {
   "codemirror_mode": {
    "name": "ipython",
    "version": 3
   },
   "file_extension": ".py",
   "mimetype": "text/x-python",
   "name": "python",
   "nbconvert_exporter": "python",
   "pygments_lexer": "ipython3",
   "version": "3.9.7"
  }
 },
 "nbformat": 4,
 "nbformat_minor": 5
}
